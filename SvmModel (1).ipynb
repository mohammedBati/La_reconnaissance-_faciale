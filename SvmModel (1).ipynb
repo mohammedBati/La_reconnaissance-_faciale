{
  "nbformat": 4,
  "nbformat_minor": 0,
  "metadata": {
    "colab": {
      "provenance": []
    },
    "kernelspec": {
      "name": "python3",
      "display_name": "Python 3"
    },
    "language_info": {
      "name": "python"
    },
    "accelerator": "GPU",
    "gpuClass": "standard"
  },
  "cells": [
    {
      "cell_type": "code",
      "execution_count": null,
      "metadata": {
        "id": "K1N4IPGo6bHE"
      },
      "outputs": [],
      "source": [
        "import keras\n",
        "from sklearn import svm\n",
        "from keras.models import Sequential\n",
        "from keras.layers import Dense, Dropout, Flatten\n",
        "from keras.layers import Conv2D, MaxPooling2D\n",
        "#from keras.utils import load_img,img_to_array\n",
        "from keras.preprocessing import image\n",
        "import requests\n",
        "import numpy as np\n",
        "from google.colab import files as FILE\n",
        "import os\n",
        "import pandas as pd\n",
        "import pickle\n",
        "import cv2 \n",
        "from google.colab.patches import cv2_imshow\n",
        "from skimage import feature\n",
        "import random\n",
        "import matplotlib.pyplot as plt\n",
        "from sklearn.model_selection import train_test_split\n",
        "#from keras.utils import to_categorical\n",
        "from tqdm import tqdm"
      ]
    },
    {
      "cell_type": "code",
      "source": [
        "train = pd.read_csv(r'/content/drive/MyDrive/Projet_TM/Projet_VA/kaggle/football_golden_foot.csv')\n",
        "face_cascade = cv2.CascadeClassifier(cv2.data.haarcascades + \"haarcascade_frontalface_default.xml\")\n"
      ],
      "metadata": {
        "id": "Ggmil3vb6rF9"
      },
      "execution_count": null,
      "outputs": []
    },
    {
      "cell_type": "code",
      "source": [
        "cd /content/drive/MyDrive/Projet_TM/Projet_VA"
      ],
      "metadata": {
        "colab": {
          "base_uri": "https://localhost:8080/"
        },
        "id": "Fq06PifmMDue",
        "outputId": "872a2594-6429-42ab-e116-a74f5609a8fc"
      },
      "execution_count": null,
      "outputs": [
        {
          "output_type": "stream",
          "name": "stdout",
          "text": [
            "/content/drive/MyDrive/Projet_TM/Projet_VA\n"
          ]
        }
      ]
    },
    {
      "cell_type": "code",
      "source": [
        "\n",
        "train_image = []\n",
        "for i in range(train.shape[0]):\n",
        "    pa=\"/content/drive/MyDrive/Projet_TM/Projet_VA/kaggle/football_golden_foot/\" + train[\"folder_name\"][i] + \"/\" + train[\"filename\"][i]\n",
        "    photo= cv2.imread(pa)\n",
        "    gray_img = cv2.cvtColor(photo, cv2.COLOR_BGR2GRAY)  #converting image to grayscale\n",
        "    faces = face_cascade.detectMultiScale(gray_img, 1.3, 5)\n",
        "    if(len(faces)!=0):\n",
        "        for (x,y,w,h) in faces:\n",
        "            roi_gray = gray_img[y:y+h, x:x+w] \n",
        "        resized = cv2.resize(roi_gray, (128,128))\n",
        "    else:\n",
        "        resized = cv2.resize(gray_img, (128,128))    \n",
        "    #resized = cv2.resize(gray_img, (128,128))\n",
        "    lbp = feature.local_binary_pattern(resized, 8, 3, 'default')\n",
        "    train_image.append(lbp)\n",
        "    print(i)\n",
        "X = np.array(train_image)"
      ],
      "metadata": {
        "id": "pUMVxZKwBtpA"
      },
      "execution_count": null,
      "outputs": []
    },
    {
      "cell_type": "code",
      "source": [
        "Y=train['folder_name'].values"
      ],
      "metadata": {
        "id": "y6BMk4hvKVfM"
      },
      "execution_count": null,
      "outputs": []
    },
    {
      "cell_type": "code",
      "source": [
        "X_train, X_test, y_train, y_test = train_test_split(X, Y, random_state=random.seed(), test_size=0.2)"
      ],
      "metadata": {
        "id": "XuvQxfR9KZQw"
      },
      "execution_count": null,
      "outputs": []
    },
    {
      "cell_type": "code",
      "source": [
        "#save the modele\n",
        "filename = 'x.pkl'\n",
        "pickle.dump(X, open(filename, 'wb'))"
      ],
      "metadata": {
        "id": "vUjzWi1ghXOI"
      },
      "execution_count": null,
      "outputs": []
    },
    {
      "cell_type": "code",
      "source": [
        "#load th modele\n",
        "filename = 'x.pkl'\n",
        "X = pickle.load(open(filename, 'rb'))"
      ],
      "metadata": {
        "id": "09lHEJh_hzcq"
      },
      "execution_count": null,
      "outputs": []
    },
    {
      "cell_type": "code",
      "source": [
        "#Redimentioner\n",
        "nsamples, nx, ny= X_train.shape\n",
        "X_train = X_train.reshape((nsamples,nx*ny)) \n",
        "#X_train=np.matrix(X_train)"
      ],
      "metadata": {
        "id": "ibc3w9xHKxlj"
      },
      "execution_count": null,
      "outputs": []
    },
    {
      "cell_type": "code",
      "source": [
        "##12min    ##train SVM\n",
        "model=svm.SVC(kernel='linear',gamma='auto',probability=True)     \n",
        "model.fit(X_train,y_train)"
      ],
      "metadata": {
        "colab": {
          "base_uri": "https://localhost:8080/"
        },
        "id": "6nMigBSeKglz",
        "outputId": "2624c2c4-fd22-4938-d4eb-02b53cbd921b"
      },
      "execution_count": null,
      "outputs": [
        {
          "output_type": "execute_result",
          "data": {
            "text/plain": [
              "SVC(gamma='auto', kernel='linear', probability=True)"
            ]
          },
          "metadata": {},
          "execution_count": 9
        }
      ]
    },
    {
      "cell_type": "code",
      "source": [
        "#save the modele\n",
        "filename = 'SvmModel3.pkl'\n",
        "pickle.dump(model, open(filename, 'wb'))"
      ],
      "metadata": {
        "id": "rVNxvycQdf70"
      },
      "execution_count": null,
      "outputs": []
    },
    {
      "cell_type": "code",
      "source": [
        "#load th modele\n",
        "filename = 'SvmModel.pkl'\n",
        "model = pickle.load(open(filename, 'rb'))"
      ],
      "metadata": {
        "id": "008qZMRkXPAq"
      },
      "execution_count": null,
      "outputs": []
    },
    {
      "cell_type": "code",
      "source": [
        "#load th modele\n",
        "filename = 'SvmModel1.pkl'\n",
        "model = pickle.load(open(filename, 'rb'))"
      ],
      "metadata": {
        "id": "vUQbW04JKuyu"
      },
      "execution_count": null,
      "outputs": []
    },
    {
      "cell_type": "code",
      "source": [
        "nsamples, nx,ny = X_test.shape\n",
        "X_test = X_test.reshape((nsamples,nx*ny)) "
      ],
      "metadata": {
        "id": "S_GLuVnVNIVu"
      },
      "execution_count": null,
      "outputs": []
    },
    {
      "cell_type": "code",
      "source": [
        "#test accuracy\n",
        "print(model.score(X_test,y_test))"
      ],
      "metadata": {
        "colab": {
          "base_uri": "https://localhost:8080/"
        },
        "id": "UH0WJaoUNP1X",
        "outputId": "5369f202-4cfb-4aaa-c9cc-308a1d9e9d53"
      },
      "execution_count": null,
      "outputs": [
        {
          "output_type": "stream",
          "name": "stdout",
          "text": [
            "0.6154381084840056\n"
          ]
        }
      ]
    },
    {
      "cell_type": "code",
      "source": [
        "############################### test one image with model 'SvmModel' ####################################\n",
        "face_cascade = cv2.CascadeClassifier(cv2.data.haarcascades + \"haarcascade_frontalface_default.xml\")\n",
        "\n",
        "pa=\"image_name.jpg\"\n",
        "photo= cv2.imread(pa)\n",
        "gray_img = cv2.cvtColor(photo, cv2.COLOR_BGR2GRAY)  #converting image to grayscale\n",
        "faces = face_cascade.detectMultiScale(photo,1.3,5) #detection face\n",
        "print(faces)\n",
        "for (x,y,w,h) in faces:\n",
        "      print(\"testtte\")\n",
        "      roi_gray = gray_img[y:y+h, x:x+w] \n",
        "resized = cv2.resize(roi_gray, (128,128))\n",
        "lbp = feature.local_binary_pattern(resized, 8, 3, 'default') #extraction the feature by LBP\n",
        "\n",
        "#redimentioner\n",
        "nsamples, nx = lbp.shape\n",
        "lbp = lbp.reshape(1,nsamples*nx) \n",
        "\n",
        "\n",
        "#one test-predict\n",
        "print(model.predict(lbp))"
      ],
      "metadata": {
        "colab": {
          "base_uri": "https://localhost:8080/"
        },
        "id": "G-JxuhdMOFEg",
        "outputId": "dccada91-58c4-4f76-9c6e-c159947a5ed2"
      },
      "execution_count": null,
      "outputs": [
        {
          "output_type": "stream",
          "name": "stdout",
          "text": [
            "()\n",
            "['lionel_messi']\n"
          ]
        }
      ]
    },
    {
      "cell_type": "code",
      "source": [
        "############################### test one image with model  'SvmModel1' ####################################\n",
        "face_cascade = cv2.CascadeClassifier(cv2.data.haarcascades + \"haarcascade_frontalface_default.xml\")\n",
        "\n",
        "pa=\"image_name.jpg\"\n",
        "photo= cv2.imread(pa)\n",
        "gray_img = cv2.cvtColor(photo, cv2.COLOR_BGR2GRAY)  #converting image to grayscale\n",
        " \n",
        "resized = cv2.resize(gray_img, (128,128))\n",
        "lbp = feature.local_binary_pattern(resized, 8, 3, 'default') #extraction the feature by LBP\n",
        "\n",
        "#redimentioner\n",
        "nsamples, nx = lbp.shape\n",
        "lbp = lbp.reshape(1,nsamples*nx) \n",
        "\n",
        "\n",
        "#one test-predict\n",
        "print(model.predict(lbp))"
      ],
      "metadata": {
        "id": "wiPWJuhgMh2f"
      },
      "execution_count": null,
      "outputs": []
    },
    {
      "cell_type": "code",
      "source": [
        "cv2_imshow(resized)"
      ],
      "metadata": {
        "colab": {
          "base_uri": "https://localhost:8080/",
          "height": 145
        },
        "id": "UGodvZ6d9E2c",
        "outputId": "680c19a0-0bd1-4053-ebab-f4fb34569366"
      },
      "execution_count": null,
      "outputs": [
        {
          "output_type": "display_data",
          "data": {
            "text/plain": [
              "<PIL.Image.Image image mode=L size=128x128 at 0x7F21B51509D0>"
            ],
            "image/png": "[encoded data removed]"
          },
          "metadata": {}
        }
      ]
    },
    {
      "cell_type": "code",
      "source": [
        "#test une image\n",
        "url='https://i.eurosport.com/2021/05/17/3134648-64248688-2560-1440.jpg'\n",
        "img_data = requests.get(url).content\n",
        "with open('image_name.jpg', 'wb') as handler:\n",
        "    handler.write(img_data)\n"
      ],
      "metadata": {
        "id": "gB_0O-TZIPn9"
      },
      "execution_count": null,
      "outputs": []
    }
  ]
}